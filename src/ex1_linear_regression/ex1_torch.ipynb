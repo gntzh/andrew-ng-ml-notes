{
 "cells": [
  {
   "cell_type": "code",
   "execution_count": 10,
   "id": "offshore-understanding",
   "metadata": {},
   "outputs": [],
   "source": [
    "%matplotlib widget"
   ]
  },
  {
   "cell_type": "code",
   "execution_count": 11,
   "id": "prostate-daisy",
   "metadata": {},
   "outputs": [],
   "source": [
    "import torch\n",
    "import numpy as np\n",
    "from torch import nn\n",
    "import torch.nn.functional as F\n",
    "import matplotlib.pyplot as plt\n",
    "from torch.utils.data import Dataset, DataLoader\n",
    "from pathlib import Path\n",
    "\n",
    "DATA_DIR = Path('../data')"
   ]
  },
  {
   "cell_type": "markdown",
   "id": "recorded-cream",
   "metadata": {},
   "source": [
    "$$\n",
    "\\hat{y} = wX^T +b\n",
    "$$\n",
    "\n",
    "$$\n",
    "loss = (\\hat{y}-y)^2\n",
    "$$"
   ]
  },
  {
   "cell_type": "code",
   "execution_count": 12,
   "id": "super-bloom",
   "metadata": {},
   "outputs": [],
   "source": [
    "class Ex1Data1(Dataset):\n",
    "    def __init__(self, path=None):\n",
    "        path = path or DATA_DIR / 'ex1data1.txt'\n",
    "        a = np.loadtxt(path, delimiter=',')\n",
    "        self._x = torch.from_numpy(a[:, :-1])\n",
    "        self._y = torch.from_numpy(a[:, -1:])\n",
    "\n",
    "    def __len__(self):\n",
    "        return self._x.size(0)\n",
    "\n",
    "    def __getitem__(self, index):\n",
    "        return self._x[index], self._y[index]\n",
    "\n",
    "\n",
    "class Ex1Data2(Dataset):\n",
    "    def __init__(self, path=None, normalize=True):\n",
    "        path = path or DATA_DIR / 'ex1data2.txt'\n",
    "        data = torch.from_numpy(np.loadtxt(path, delimiter=','))\n",
    "        if normalize:\n",
    "            data = F.normalize(data, dim=0)\n",
    "        self._x = data[:, :-1]\n",
    "        self._y = data[:, -1:]\n",
    "\n",
    "    def __len__(self):\n",
    "        return self._x.size(0)\n",
    "\n",
    "    def __getitem__(self, index):\n",
    "        return self._x[index], self._y[index]"
   ]
  },
  {
   "cell_type": "code",
   "execution_count": 13,
   "id": "technological-stopping",
   "metadata": {},
   "outputs": [],
   "source": [
    "def plot_data1(data):\n",
    "    fig, ax = plt.subplots()\n",
    "    ax.scatter(data._x, data._y, c='red', marker='x')\n",
    "\n",
    "    ax.set_xlabel('Profit in $10,000s')\n",
    "    ax.set_ylabel('Population of City in 10,000s')\n",
    "    return fig, ax"
   ]
  },
  {
   "cell_type": "code",
   "execution_count": 14,
   "id": "tired-destruction",
   "metadata": {},
   "outputs": [
    {
     "data": {
      "application/vnd.jupyter.widget-view+json": {
       "model_id": "597bf18aeb41485a8bd015c26dca663e",
       "version_major": 2,
       "version_minor": 0
      },
      "text/plain": [
       "Canvas(toolbar=Toolbar(toolitems=[('Home', 'Reset original view', 'home', 'home'), ('Back', 'Back to previous …"
      ]
     },
     "metadata": {},
     "output_type": "display_data"
    }
   ],
   "source": [
    "fig, ax = plot_data1(Ex1Data1())"
   ]
  },
  {
   "cell_type": "code",
   "execution_count": 15,
   "id": "earlier-neighbor",
   "metadata": {},
   "outputs": [],
   "source": [
    "class LinearModel(nn.Module):\n",
    "    def __init__(self, in_features, out_features=1):\n",
    "        super().__init__()\n",
    "        self.linear = nn.Linear(in_features, out_features)\n",
    "\n",
    "    def forward(self, x):\n",
    "        out = self.linear(x)\n",
    "        return out"
   ]
  },
  {
   "cell_type": "code",
   "execution_count": 16,
   "id": "handy-carolina",
   "metadata": {},
   "outputs": [],
   "source": [
    "data1 = Ex1Data1()\n",
    "model = LinearModel(1)\n",
    "criterion = nn.MSELoss()\n",
    "optimizer = torch.optim.SGD(model.parameters(), lr=0.01)"
   ]
  },
  {
   "cell_type": "code",
   "execution_count": 17,
   "id": "documented-component",
   "metadata": {},
   "outputs": [
    {
     "name": "stdout",
     "output_type": "stream",
     "text": [
      "0 20.90266990661621\n",
      "1 15.91232967376709\n",
      "2 13.825238227844238\n",
      "3 12.94411563873291\n",
      "4 12.56398868560791\n",
      "5 12.392047882080078\n",
      "6 12.306680679321289\n",
      "7 12.257369995117188\n",
      "8 12.223135948181152\n",
      "9 12.195263862609863\n"
     ]
    }
   ],
   "source": [
    "for epoch in range(10):\n",
    "    y_pred = model(data1._x.float())\n",
    "    loss = criterion(y_pred, data1._y.float())\n",
    "    print(epoch, loss.item())\n",
    "    optimizer.zero_grad()\n",
    "    loss.backward()\n",
    "    optimizer.step()\n",
    "# print(epoch, loss.item())"
   ]
  },
  {
   "cell_type": "code",
   "execution_count": 26,
   "id": "behavioral-azerbaijan",
   "metadata": {},
   "outputs": [
    {
     "data": {
      "application/vnd.jupyter.widget-view+json": {
       "model_id": "5359602f4a3d4d75987c8b75b7b2a445",
       "version_major": 2,
       "version_minor": 0
      },
      "text/plain": [
       "Canvas(toolbar=Toolbar(toolitems=[('Home', 'Reset original view', 'home', 'home'), ('Back', 'Back to previous …"
      ]
     },
     "metadata": {},
     "output_type": "display_data"
    }
   ],
   "source": [
    "x = torch.arange(4, 24, 0.1)\n",
    "y = model.linear.bias.item() + model.linear.weight.item()*x\n",
    "\n",
    "fig, ax = plot_data1(Ex1Data1())\n",
    "ax.plot(x, y, label='Predictionx')\n",
    "fig.show()"
   ]
  },
  {
   "cell_type": "code",
   "execution_count": 19,
   "id": "russian-blond",
   "metadata": {},
   "outputs": [
    {
     "name": "stdout",
     "output_type": "stream",
     "text": [
      "weights = 0.7669470906257629\n",
      "b = 0.30579498410224915\n"
     ]
    }
   ],
   "source": [
    "print(f'weights = {model.linear.weight.item()}')\n",
    "print(f'b = {model.linear.bias.item()}')"
   ]
  },
  {
   "cell_type": "code",
   "execution_count": 20,
   "id": "metric-rover",
   "metadata": {},
   "outputs": [
    {
     "data": {
      "text/plain": [
       "\u001b[1;31mInit signature:\u001b[0m \u001b[0mnp\u001b[0m\u001b[1;33m.\u001b[0m\u001b[0mfloat32\u001b[0m\u001b[1;33m(\u001b[0m\u001b[0mself\u001b[0m\u001b[1;33m,\u001b[0m \u001b[1;33m/\u001b[0m\u001b[1;33m,\u001b[0m \u001b[1;33m*\u001b[0m\u001b[0margs\u001b[0m\u001b[1;33m,\u001b[0m \u001b[1;33m**\u001b[0m\u001b[0mkwargs\u001b[0m\u001b[1;33m)\u001b[0m\u001b[1;33m\u001b[0m\u001b[1;33m\u001b[0m\u001b[0m\n",
       "\u001b[1;31mDocstring:\u001b[0m     \n",
       "Single-precision floating-point number type, compatible with C ``float``.\n",
       "\n",
       ":Character code: ``'f'``\n",
       ":Canonical name: `numpy.single`\n",
       ":Alias on this platform: `numpy.float32`: 32-bit-precision floating-point number type: sign bit, 8 bits exponent, 23 bits mantissa.\n",
       "\u001b[1;31mFile:\u001b[0m           c:\\applications\\scoop\\apps\\python\\3.9.1\\lib\\site-packages\\numpy\\__init__.py\n",
       "\u001b[1;31mType:\u001b[0m           type\n",
       "\u001b[1;31mSubclasses:\u001b[0m     \n"
      ]
     },
     "metadata": {},
     "output_type": "display_data"
    }
   ],
   "source": [
    "?np.float32"
   ]
  },
  {
   "cell_type": "code",
   "execution_count": 21,
   "id": "ahead-plane",
   "metadata": {},
   "outputs": [],
   "source": [
    "data2 = Ex1Data2()\n",
    "model2 = LinearModel(2)\n",
    "criterion2 = nn.MSELoss()\n",
    "optimizer2 = torch.optim.SGD(model2.parameters(), lr=0.01)"
   ]
  },
  {
   "cell_type": "code",
   "execution_count": 22,
   "id": "liked-monroe",
   "metadata": {},
   "outputs": [
    {
     "name": "stdout",
     "output_type": "stream",
     "text": [
      "0 0.25977739691734314\n",
      "1 0.24932648241519928\n",
      "2 0.2393052875995636\n",
      "3 0.2296960949897766\n",
      "4 0.22048193216323853\n",
      "5 0.21164663136005402\n",
      "6 0.20317454636096954\n",
      "7 0.19505079090595245\n",
      "8 0.18726100027561188\n",
      "9 0.17979146540164948\n"
     ]
    }
   ],
   "source": [
    "for epoch in range(10):\n",
    "    y_pred = model2(data2._x.float())\n",
    "    loss = criterion2(y_pred, data2._y.float())\n",
    "    print(epoch, loss.item())\n",
    "    optimizer2.zero_grad()\n",
    "    loss.backward()\n",
    "    optimizer2.step()"
   ]
  }
 ],
 "metadata": {
  "kernelspec": {
   "display_name": "Python 3",
   "language": "python",
   "name": "python3"
  },
  "language_info": {
   "codemirror_mode": {
    "name": "ipython",
    "version": 3
   },
   "file_extension": ".py",
   "mimetype": "text/x-python",
   "name": "python",
   "nbconvert_exporter": "python",
   "pygments_lexer": "ipython3",
   "version": "3.9.1"
  }
 },
 "nbformat": 4,
 "nbformat_minor": 5
}
